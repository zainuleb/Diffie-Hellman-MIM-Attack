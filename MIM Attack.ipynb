{
 "cells": [
  {
   "cell_type": "code",
   "execution_count": 1,
   "metadata": {},
   "outputs": [],
   "source": [
    "def calc_shared_key(A, B, p, g):\n",
    "    a, b = None, None\n",
    "    for x in range(1, p):\n",
    "        if (g ** x) % p == A:\n",
    "            a = x\n",
    "        if (g ** x) % p == B:\n",
    "            b = x\n",
    "    return a, b"
   ]
  },
  {
   "cell_type": "code",
   "execution_count": 2,
   "metadata": {},
   "outputs": [
    {
     "name": "stdout",
     "output_type": "stream",
     "text": [
      "A private key is 6\n",
      "B private key is 15\n",
      "A and B shared secret key is 2\n"
     ]
    }
   ],
   "source": [
    "#Public Keys of Alice and Bob\n",
    "A = 8\n",
    "B = 19\n",
    "\n",
    "#Base and Prime\n",
    "g = 5\n",
    "p = 23\n",
    "\n",
    "a, b = calc_shared_key(A, B, p, g)\n",
    "    \n",
    "if a != None:\n",
    "    print('A private key is {}'.format(a))\n",
    "else:\n",
    "    print(\"Could not find the A's private key :(\")\n",
    "\n",
    "if b != None:\n",
    "    print('B private key is {}'.format(b))\n",
    "else:\n",
    "    print(\"Could not find the B's private key :(\")\n",
    "\n",
    "if a != None and b != None:\n",
    "    k = (B ** a) % p\n",
    "    print('A and B shared secret key is {}'.format(k))\n",
    "else:\n",
    "    print('Could not find the shared key :(')\n",
    "pass"
   ]
  }
 ],
 "metadata": {
  "kernelspec": {
   "display_name": "Python 3",
   "language": "python",
   "name": "python3"
  },
  "language_info": {
   "codemirror_mode": {
    "name": "ipython",
    "version": 3
   },
   "file_extension": ".py",
   "mimetype": "text/x-python",
   "name": "python",
   "nbconvert_exporter": "python",
   "pygments_lexer": "ipython3",
   "version": "3.7.4"
  }
 },
 "nbformat": 4,
 "nbformat_minor": 4
}
