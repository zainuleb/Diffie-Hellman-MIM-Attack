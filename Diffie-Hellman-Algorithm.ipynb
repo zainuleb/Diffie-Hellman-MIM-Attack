{
 "cells": [
  {
   "cell_type": "code",
   "execution_count": 1,
   "metadata": {},
   "outputs": [],
   "source": [
    "from __future__ import print_function"
   ]
  },
  {
   "cell_type": "code",
   "execution_count": 2,
   "metadata": {},
   "outputs": [],
   "source": [
    "# Variables Used\n",
    "\n",
    "sharedBase =  5    # g\n",
    "sharedPrime =  23 # p\n",
    "\n",
    "aliceSecret = 6  # a\n",
    "bobSecret =  15  # b"
   ]
  },
  {
   "cell_type": "code",
   "execution_count": 3,
   "metadata": {},
   "outputs": [
    {
     "name": "stdout",
     "output_type": "stream",
     "text": [
      "Publicly Shared Variables:\n",
      "    Publicly Shared Prime:  23\n",
      "    Publicly Shared Base:   5\n"
     ]
    }
   ],
   "source": [
    "# Begin\n",
    "print( \"Publicly Shared Variables:\")\n",
    "print( \"    Publicly Shared Prime: \" , sharedPrime )\n",
    "print( \"    Publicly Shared Base:  \" , sharedBase )"
   ]
  },
  {
   "cell_type": "code",
   "execution_count": 4,
   "metadata": {},
   "outputs": [
    {
     "name": "stdout",
     "output_type": "stream",
     "text": [
      "\n",
      "Alice Sends Over Public Chanel:  8\n",
      "Bob Sends Over Public Chanel:  19\n"
     ]
    }
   ],
   "source": [
    "# Alice Sends Bob A = g^a mod p\n",
    "A = (sharedBase**aliceSecret) % sharedPrime\n",
    "print( \"\\nAlice Sends Over Public Chanel: \" , A )\n",
    "\n",
    "# Bob Sends Alice B = g^b mod p\n",
    "B = (sharedBase ** bobSecret) % sharedPrime\n",
    "print(\"Bob Sends Over Public Chanel: \", B )"
   ]
  },
  {
   "cell_type": "code",
   "execution_count": 5,
   "metadata": {},
   "outputs": [
    {
     "name": "stdout",
     "output_type": "stream",
     "text": [
      "Private Keys\n",
      "    Alice Private Key:  6\n",
      "    Bob Private Key:  15\n",
      "\n",
      "\n",
      "Calculated Shared Secret\n",
      "    Alice Shared Secret:  2\n",
      "    Bob Shared Secret:  2\n"
     ]
    }
   ],
   "source": [
    "print( \"Private Keys\" )\n",
    "\n",
    "print( \"    Alice Private Key: \", aliceSecret )\n",
    "print( \"    Bob Private Key: \", bobSecret )\n",
    "\n",
    "print( \"\\n\\nCalculated Shared Secret\" )\n",
    "# Alice Computes Shared Secret: s = B^a mod p\n",
    "aliceSharedSecret = (B ** aliceSecret) % sharedPrime\n",
    "print( \"    Alice Shared Secret: \", aliceSharedSecret )\n",
    " \n",
    "# Bob Computes Shared Secret: s = A^b mod p\n",
    "bobSharedSecret = (A**bobSecret) % sharedPrime\n",
    "print( \"    Bob Shared Secret: \", bobSharedSecret )"
   ]
  }
 ],
 "metadata": {
  "kernelspec": {
   "display_name": "Python 3",
   "language": "python",
   "name": "python3"
  },
  "language_info": {
   "codemirror_mode": {
    "name": "ipython",
    "version": 3
   },
   "file_extension": ".py",
   "mimetype": "text/x-python",
   "name": "python",
   "nbconvert_exporter": "python",
   "pygments_lexer": "ipython3",
   "version": "3.7.4"
  }
 },
 "nbformat": 4,
 "nbformat_minor": 4
}
